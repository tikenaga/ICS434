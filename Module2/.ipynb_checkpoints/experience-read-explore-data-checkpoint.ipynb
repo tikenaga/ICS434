{
 "cells": [
  {
   "cell_type": "markdown",
   "id": "3f5ccc57",
   "metadata": {},
   "source": [
    "### This cell allows me to acces my files"
   ]
  },
  {
   "cell_type": "code",
   "execution_count": 27,
   "id": "5b15f5ca",
   "metadata": {},
   "outputs": [
    {
     "data": {
      "text/plain": [
       "'C:\\\\Users\\\\Rock\\\\Documents\\\\GitHub\\\\ICS434\\\\Module2'"
      ]
     },
     "execution_count": 27,
     "metadata": {},
     "output_type": "execute_result"
    }
   ],
   "source": [
    "%pwd"
   ]
  },
  {
   "cell_type": "markdown",
   "id": "f1baadeb",
   "metadata": {},
   "source": [
    "### creates a path that points to a file in my directory"
   ]
  },
  {
   "cell_type": "code",
   "execution_count": 21,
   "id": "ffaab0c1",
   "metadata": {},
   "outputs": [],
   "source": [
    "path = 'ch2/usagov_bitly_data2012-03-16-1331923249.txt'"
   ]
  },
  {
   "cell_type": "markdown",
   "id": "ea38bf33",
   "metadata": {},
   "source": [
    "###### This cell opens the path created in the previous cell then reads a single line from the text file that contains various points of data. The output is the first line of data which seems to be a single set with various labels given to each data value of the set. The data isn't formatted at all since I believe this just outputs the raw text from the first line of the text from the txt file. "
   ]
  },
  {
   "cell_type": "code",
   "execution_count": 22,
   "id": "ed1690f8",
   "metadata": {},
   "outputs": [
    {
     "data": {
      "text/plain": [
       "'{ \"a\": \"Mozilla\\\\/5.0 (Windows NT 6.1; WOW64) AppleWebKit\\\\/535.11 (KHTML, like Gecko) Chrome\\\\/17.0.963.78 Safari\\\\/535.11\", \"c\": \"US\", \"nk\": 1, \"tz\": \"America\\\\/New_York\", \"gr\": \"MA\", \"g\": \"A6qOVH\", \"h\": \"wfLQtf\", \"l\": \"orofrog\", \"al\": \"en-US,en;q=0.8\", \"hh\": \"1.usa.gov\", \"r\": \"http:\\\\/\\\\/www.facebook.com\\\\/l\\\\/7AQEFzjSi\\\\/1.usa.gov\\\\/wfLQtf\", \"u\": \"http:\\\\/\\\\/www.ncbi.nlm.nih.gov\\\\/pubmed\\\\/22415991\", \"t\": 1331923247, \"hc\": 1331822918, \"cy\": \"Danvers\", \"ll\": [ 42.576698, -70.954903 ] }\\n'"
      ]
     },
     "execution_count": 22,
     "metadata": {},
     "output_type": "execute_result"
    }
   ],
   "source": [
    "open(path).readline()"
   ]
  },
  {
   "cell_type": "markdown",
   "id": "84ca0aa8",
   "metadata": {},
   "source": [
    "##### This cell sets up the path like the previous cell as well as sets up a records variable which uses the json module to store all the lines of the data points in the txt file from the path as an array. "
   ]
  },
  {
   "cell_type": "code",
   "execution_count": 28,
   "id": "27cc33c4",
   "metadata": {},
   "outputs": [],
   "source": [
    "import json\n",
    "path = 'ch2/usagov_bitly_data2012-03-16-1331923249.txt'\n",
    "records = [json.loads(line) for line in open(path)]"
   ]
  },
  {
   "cell_type": "markdown",
   "id": "12da28aa",
   "metadata": {},
   "source": [
    "##### This cell just outputs the first line of the array from the previous cell which lists all the data points from the first line of the data file."
   ]
  },
  {
   "cell_type": "code",
   "execution_count": 13,
   "id": "368ad1a6",
   "metadata": {},
   "outputs": [
    {
     "data": {
      "text/plain": [
       "{'a': 'Mozilla/5.0 (Windows NT 6.1; WOW64) AppleWebKit/535.11 (KHTML, like Gecko) Chrome/17.0.963.78 Safari/535.11',\n",
       " 'c': 'US',\n",
       " 'nk': 1,\n",
       " 'tz': 'America/New_York',\n",
       " 'gr': 'MA',\n",
       " 'g': 'A6qOVH',\n",
       " 'h': 'wfLQtf',\n",
       " 'l': 'orofrog',\n",
       " 'al': 'en-US,en;q=0.8',\n",
       " 'hh': '1.usa.gov',\n",
       " 'r': 'http://www.facebook.com/l/7AQEFzjSi/1.usa.gov/wfLQtf',\n",
       " 'u': 'http://www.ncbi.nlm.nih.gov/pubmed/22415991',\n",
       " 't': 1331923247,\n",
       " 'hc': 1331822918,\n",
       " 'cy': 'Danvers',\n",
       " 'll': [42.576698, -70.954903]}"
      ]
     },
     "execution_count": 13,
     "metadata": {},
     "output_type": "execute_result"
    }
   ],
   "source": [
    "records[0]"
   ]
  },
  {
   "cell_type": "markdown",
   "id": "2c158d7d",
   "metadata": {},
   "source": [
    "##### This cell outputs the value stored in the label 'tz' from the first line of data from the previous cell. "
   ]
  },
  {
   "cell_type": "code",
   "execution_count": 14,
   "id": "4e58b56a",
   "metadata": {
    "scrolled": true
   },
   "outputs": [
    {
     "data": {
      "text/plain": [
       "'America/New_York'"
      ]
     },
     "execution_count": 14,
     "metadata": {},
     "output_type": "execute_result"
    }
   ],
   "source": [
    "records[0]['tz']"
   ]
  },
  {
   "cell_type": "markdown",
   "id": "61dcd500",
   "metadata": {},
   "source": [
    "##### This cell prints the value from the previous cell. "
   ]
  },
  {
   "cell_type": "code",
   "execution_count": 15,
   "id": "fb57f3e2",
   "metadata": {
    "scrolled": true
   },
   "outputs": [
    {
     "name": "stdout",
     "output_type": "stream",
     "text": [
      "America/New_York\n"
     ]
    }
   ],
   "source": [
    "print(records[0]['tz'])"
   ]
  },
  {
   "cell_type": "code",
   "execution_count": null,
   "id": "81f1ad4e",
   "metadata": {},
   "outputs": [],
   "source": []
  }
 ],
 "metadata": {
  "kernelspec": {
   "display_name": "Python 3 (ipykernel)",
   "language": "python",
   "name": "python3"
  },
  "language_info": {
   "codemirror_mode": {
    "name": "ipython",
    "version": 3
   },
   "file_extension": ".py",
   "mimetype": "text/x-python",
   "name": "python",
   "nbconvert_exporter": "python",
   "pygments_lexer": "ipython3",
   "version": "3.9.7"
  }
 },
 "nbformat": 4,
 "nbformat_minor": 5
}
