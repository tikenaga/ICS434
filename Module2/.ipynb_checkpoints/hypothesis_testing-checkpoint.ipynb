{
 "cells": [
  {
   "cell_type": "code",
   "execution_count": 7,
   "metadata": {},
   "outputs": [],
   "source": [
    "import pandas as pd\n",
    "import matplotlib.pyplot as plt\n",
    "import numpy as np\n",
    "import scipy as sp\n",
    "from scipy import stats\n"
   ]
  },
  {
   "cell_type": "markdown",
   "metadata": {},
   "source": [
    "### Example\n",
    "\n",
    "* Suppose we have two samples that represent biki ride durations for two distinct neighborhoods `a` and `b`\n",
    "\n",
    "1. Instead of working with actual data, sample the data from a gaussian the same mean ($\\mu=20$) the same same standard deviation ($\\sigma = 4$)\n",
    "    * We will sample 15 bike rides for each of regions `a` and `b`\n",
    "    "
   ]
  },
  {
   "cell_type": "code",
   "execution_count": 5,
   "metadata": {},
   "outputs": [
    {
     "name": "stdout",
     "output_type": "stream",
     "text": [
      "18.957066344536443\n",
      "20.74430575237853\n"
     ]
    }
   ],
   "source": [
    "# Write your code here \n",
    "a = np.random.normal(20, 4, 15)\n",
    "b = np.random.normal(20, 4, 15)\n",
    "print(np.mean(a))\n",
    "print(np.mean(b))"
   ]
  },
  {
   "cell_type": "markdown",
   "metadata": {},
   "source": [
    "### Example - cont'd\n",
    "\n",
    "2. Compute and compare the means of datasets `a` `b`\n",
    "  * Based on the observed difference between the means, do you believe there is a statistically significant difference between samples `a` and `b`"
   ]
  },
  {
   "cell_type": "markdown",
   "metadata": {},
   "source": [
    "## ANSWER 2\n",
    "### The two means are 18.9 and 20.7. I don't believe there is a statistically significant difference between the two samples because the two means are within each other's standard deviation of 4. The difference between the two is less than 4. "
   ]
  },
  {
   "cell_type": "markdown",
   "metadata": {},
   "source": [
    "### Example - cont'd\n",
    "\n",
    "3. draw the two KDEs reprenting the datasets `a` and `b`\n",
    "  * You should have a figure that appears \"approximately\" as in the figure below\n",
    "    * The X- and Y-axis values have been intentionally omitted\n",
    "    \n",
    "![](https://www.dropbox.com/s/0ab4d92lkcn89jv/a_b_kde_exmaple.png?dl=1)    "
   ]
  },
  {
   "cell_type": "code",
   "execution_count": 17,
   "metadata": {},
   "outputs": [
    {
     "data": {
      "text/plain": [
       "[<matplotlib.lines.Line2D at 0x2b32c24af40>]"
      ]
     },
     "execution_count": 17,
     "metadata": {},
     "output_type": "execute_result"
    },
    {
     "data": {
      "image/png": "[encoded data removed]",
      "text/plain": [
       "<Figure size 432x288 with 1 Axes>"
      ]
     },
     "metadata": {
      "needs_background": "light"
     },
     "output_type": "display_data"
    }
   ],
   "source": [
    "# Write your code here \n",
    "kde_a = stats.gaussian_kde(a, bw_method=1)\n",
    "kde_b= stats.gaussian_kde(b, bw_method=1)\n",
    "\n",
    "x_values = np.arange(0, 40, 0.25)\n",
    "# Estimate Kernel density for the support (x-axis)\n",
    "x_densities_a = kde_a.evaluate(x_values)\n",
    "x_densities_b = kde_b.evaluate(x_values)\n",
    "plt.plot(x_values, x_densities_a)\n",
    "plt.plot(x_values, x_densities_b)"
   ]
  },
  {
   "cell_type": "markdown",
   "metadata": {},
   "source": [
    "### Example - cont'd\n",
    "\n",
    "4. Visually, does dataset *a* differ significantly from dataset `b`"
   ]
  },
  {
   "cell_type": "markdown",
   "metadata": {},
   "source": [
    "# Write your code here \n",
    "### Looking at the graphs the mid points are at around the same spot which tells me that the data doesn't differ since the means are around the same. There is also a significant amount of overlap betweeo the two histograms\n"
   ]
  },
  {
   "cell_type": "markdown",
   "metadata": {},
   "source": [
    "### Example - cont'd\n",
    "\n",
    "5. Use the resampling method covered in class to test whether or not there is a statistically significant difference between datasets `a` and `b`\n",
    " * Provide a p-value to support your claim.\n"
   ]
  },
  {
   "cell_type": "code",
   "execution_count": 48,
   "metadata": {},
   "outputs": [
    {
     "data": {
      "text/plain": [
       "0.101"
      ]
     },
     "execution_count": 48,
     "metadata": {},
     "output_type": "execute_result"
    }
   ],
   "source": [
    "# Write your code here \n",
    "all_data = np.concatenate([a,b])\n",
    "mean_difference = []\n",
    "for _ in range(1000):\n",
    "    np.random.shuffle(all_data)\n",
    "    a_subset = all_data[:20]\n",
    "    b_subset = all_data[20:]\n",
    "    mean_difference.append(np.mean(a_subset) - np.mean(b_subset))\n",
    "sum(mean_difference >= (np.mean(b) - np.mean(a))) / len(mean_difference)\n"
   ]
  },
  {
   "cell_type": "markdown",
   "metadata": {},
   "source": [
    "### The p-value is 0.101 which is greater than .05 which means that the difference between the two sets of data isn't statistically significant"
   ]
  },
  {
   "cell_type": "markdown",
   "metadata": {},
   "source": [
    "### Example - cont'd\n",
    "\n",
    "6. Plot a histogram of the means obtained during resampling and the observed value. \n",
    "  * You should have a figure that appears \"approximately\" as in the figure below\n",
    "![](https://www.dropbox.com/s/g54bal23o1ktj2j/a_b_hist_example.png?dl=1)  "
   ]
  },
  {
   "cell_type": "code",
   "execution_count": 43,
   "metadata": {},
   "outputs": [
    {
     "data": {
      "image/png": "[encoded data removed]",
      "text/plain": [
       "<Figure size 432x288 with 1 Axes>"
      ]
     },
     "metadata": {
      "needs_background": "light"
     },
     "output_type": "display_data"
    }
   ],
   "source": [
    "# Write your code here \n",
    "_ = plt.hist(mean_difference, edgecolor='k', linewidth=1.2, bins=12)"
   ]
  }
 ],
 "metadata": {
  "celltoolbar": "Slideshow",
  "colab": {
   "collapsed_sections": [],
   "name": "PP_1_Introduction.ipynb",
   "provenance": [],
   "version": "0.3.2"
  },
  "hide_input": false,
  "kernelspec": {
   "display_name": "Python 3 (ipykernel)",
   "language": "python",
   "name": "python3"
  },
  "language_info": {
   "codemirror_mode": {
    "name": "ipython",
    "version": 3
   },
   "file_extension": ".py",
   "mimetype": "text/x-python",
   "name": "python",
   "nbconvert_exporter": "python",
   "pygments_lexer": "ipython3",
   "version": "3.9.7"
  }
 },
 "nbformat": 4,
 "nbformat_minor": 1
}
